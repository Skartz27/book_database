{
 "cells": [
  {
   "cell_type": "code",
   "id": "f9fdf1ca-1f38-4644-ac68-933abd7018c5",
   "metadata": {
    "jupyter": {
     "is_executing": true
    }
   },
   "source": [
    "# 1. ბაზის მოდულის შემოტანა და კავშირი\n",
    "import sqlite3\n",
    "import matplotlib.pyplot as plt\n",
    "\n",
    "# დაკავშირება ბაზასთან\n",
    "conn = sqlite3.connect('books.db')\n",
    "cursor = conn.cursor()"
   ],
   "outputs": [],
   "execution_count": null
  },
  {
   "cell_type": "code",
   "execution_count": null,
   "id": "0237d705-fbdf-4d08-bb84-843e54860ec7",
   "metadata": {},
   "outputs": [],
   "source": [
    "# 2. მონაცემების წაკითხვა WHERE ოპერაციით\n",
    "cursor.execute(\"SELECT title, average_rating FROM books WHERE authors LIKE '%Tolkien%'\")\n",
    "results = cursor.fetchall()\n",
    "# ეს ბრძანება იღებს ყველა იმ წიგნის სათაურს და საშუალო რეიტინგს, რომლის ავტორია Tolkien\n",
    "for row in results:\n",
    "    print(row)"
   ]
  },
  {
   "cell_type": "code",
   "execution_count": null,
   "id": "3ec54545-48f5-4d55-b2c0-f980cdf39f3c",
   "metadata": {},
   "outputs": [],
   "source": [
    "# 3. ახალი ჩანაწერის დამატება (user input-ით)\n",
    "book_id = input(\"შეიყვანე წიგნის ID: \")\n",
    "title = input(\"შეიყვანე წიგნის სათაური: \")\n",
    "authors = input(\"შეიყვანე ავტორი: \")\n",
    "cursor.execute(\"INSERT INTO books (field1, field2, field3) VALUES (?, ?, ?)\", (book_id, title, authors))\n",
    "conn.commit()\n",
    "# ეს ბრძანება ცხრილში ამატებს ახალ წიგნს მომხმარებლის მიერ შეყვანილი მონაცემებით"
   ]
  },
  {
   "cell_type": "code",
   "execution_count": null,
   "id": "cd319938-d45c-47e4-8899-2ece64a6d84b",
   "metadata": {},
   "outputs": [],
   "source": [
    "# 4. ჩანაწერის განახლება (user input-ით)\n",
    "new_title = input(\"შეიყვანე ახალი სათაური: \")\n",
    "update_id = input(\"შეიყვანე ID განახლებისთვის: \")\n",
    "\n",
    "cursor.execute(\"UPDATE books SET field2 = ? WHERE field1 = ?\", (new_title, update_id))\n",
    "conn.commit()\n",
    "# ეს ბრძანება განაახლებს იმ წიგნის სათაურს, რომლის ID დაემთხვევა შეყვანილს"
   ]
  },
  {
   "cell_type": "code",
   "execution_count": null,
   "id": "e475c681-3bf7-43a1-9cdb-160b66de6193",
   "metadata": {},
   "outputs": [],
   "source": [
    "# 5. ჩანაწერის წაშლა (user input-ით)\n",
    "delete_id = input(\"შეიყვანე ID წასაშლელად: \")\n",
    "\n",
    "cursor.execute(\"DELETE FROM books WHERE field1 = ?\", (delete_id,))\n",
    "conn.commit()\n"
   ]
  },
  {
   "cell_type": "code",
   "execution_count": null,
   "id": "d6e36137-50b1-4655-b069-ca9a1a370a0e",
   "metadata": {},
   "outputs": [],
   "source": [
    "# მონაცემების ვიზუალიზაცია — 3 დიაგრამა (matplotlib)\n",
    "\n",
    "# 1)ჰისტოგრამა — წიგნების გვერდების რაოდენობა\n",
    "cursor.execute(\"SELECT field2, CAST(field8 AS INTEGER) FROM books LIMIT 10\")\n",
    "books = cursor.fetchall()\n",
    "\n",
    "titles = [book[0] for book in books]\n",
    "pages = [book[1] for book in books]\n",
    "\n",
    "plt.figure(figsize=(10,6))\n",
    "plt.barh(titles, pages, color='skyblue')\n",
    "plt.xlabel('გვერდების რაოდენობა')\n",
    "plt.title('ტოპ 10 წიგნი გვერდების მიხედვით')\n",
    "plt.tight_layout()\n",
    "plt.show()"
   ]
  },
  {
   "cell_type": "code",
   "execution_count": null,
   "id": "06570000-5a9d-41c5-99a5-13f92b53d182",
   "metadata": {},
   "outputs": [],
   "source": [
    "# 2) წერტილოვანი დიაგრამა — რეიტინგი vs გვერდები\n",
    "cursor.execute(\"SELECT CAST(field4 AS FLOAT), CAST(field8 AS INTEGER) FROM books LIMIT 50\")\n",
    "data = cursor.fetchall()\n",
    "\n",
    "ratings = [row[0] for row in data]\n",
    "pages = [row[1] for row in data]\n",
    "\n",
    "plt.figure(figsize=(8,6))\n",
    "plt.scatter(pages, ratings, alpha=0.7)\n",
    "plt.xlabel(\"გვერდების რაოდენობა\")\n",
    "plt.ylabel(\"საშ. რეიტინგი\")\n",
    "plt.title(\"რეიტინგი და გვერდები\")\n",
    "plt.grid(True)\n",
    "plt.show()"
   ]
  },
  {
   "cell_type": "code",
   "execution_count": null,
   "id": "8281deef-51e9-4814-9c58-c91ee00b0a72",
   "metadata": {},
   "outputs": [],
   "source": [
    "# 3) პაი დიაგრამა — ენების განაწილება\n",
    "cursor.execute(\"SELECT field7, COUNT(*) FROM books GROUP BY field7\")\n",
    "lang_data = cursor.fetchall()\n",
    "\n",
    "languages = [row[0] for row in lang_data]\n",
    "counts = [row[1] for row in lang_data]\n",
    "\n",
    "plt.figure(figsize=(8,8))\n",
    "plt.pie(counts, labels=languages, autopct='%1.1f%%', startangle=140)\n",
    "plt.title(\"წიგნების ენების განაწილება\")\n",
    "plt.axis('equal')\n",
    "plt.show()"
   ]
  },
  {
   "cell_type": "code",
   "execution_count": 2,
   "id": "97090fe1-3a9a-4359-b858-185d2e0703b1",
   "metadata": {},
   "outputs": [
    {
     "ename": "NameError",
     "evalue": "name 'conn' is not defined",
     "output_type": "error",
     "traceback": [
      "\u001B[31m---------------------------------------------------------------------------\u001B[39m",
      "\u001B[31mNameError\u001B[39m                                 Traceback (most recent call last)",
      "\u001B[36mCell\u001B[39m\u001B[36m \u001B[39m\u001B[32mIn[2]\u001B[39m\u001B[32m, line 2\u001B[39m\n\u001B[32m      1\u001B[39m \u001B[38;5;66;03m# 7. კავშირის გაწყვეტა\u001B[39;00m\n\u001B[32m----> \u001B[39m\u001B[32m2\u001B[39m \u001B[43mconn\u001B[49m.close()\n",
      "\u001B[31mNameError\u001B[39m: name 'conn' is not defined"
     ]
    }
   ],
   "source": [
    "# 7. კავშირის გაწყვეტა\n",
    "conn.close()\n",
    "\n"
   ]
  },
  {
   "cell_type": "code",
   "execution_count": null,
   "id": "fc5c1e43-418a-46ce-a024-774ad1c6e4b5",
   "metadata": {},
   "outputs": [],
   "source": []
  },
  {
   "cell_type": "code",
   "execution_count": null,
   "id": "918e29d4-f290-4211-97a0-b72e52ff0651",
   "metadata": {},
   "outputs": [],
   "source": []
  },
  {
   "cell_type": "code",
   "execution_count": null,
   "id": "9eda8755-c7b3-46a9-a3f3-54eb9fce3629",
   "metadata": {},
   "outputs": [],
   "source": []
  }
 ],
 "metadata": {
  "kernelspec": {
   "display_name": "Python 3 (ipykernel)",
   "language": "python",
   "name": "python3"
  },
  "language_info": {
   "codemirror_mode": {
    "name": "ipython",
    "version": 3
   },
   "file_extension": ".py",
   "mimetype": "text/x-python",
   "name": "python",
   "nbconvert_exporter": "python",
   "pygments_lexer": "ipython3",
   "version": "3.12.6"
  }
 },
 "nbformat": 4,
 "nbformat_minor": 5
}
